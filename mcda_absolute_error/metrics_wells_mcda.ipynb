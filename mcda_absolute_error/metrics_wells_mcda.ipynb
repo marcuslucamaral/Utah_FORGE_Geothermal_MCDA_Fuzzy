{
 "cells": [
  {
   "cell_type": "code",
   "execution_count": 5,
   "id": "d6740316-e5ad-4e34-9efd-1f69fddfaad9",
   "metadata": {},
   "outputs": [],
   "source": [
    "\n",
    "import pandas as pd\n",
    "import numpy as np\n",
    "from sklearn.metrics import mean_squared_error\n",
    "from scipy.stats import pearsonr\n",
    "\n"
   ]
  },
  {
   "cell_type": "code",
   "execution_count": 3,
   "id": "df5f8156-af2b-4808-bf51-04f4c8cb01a0",
   "metadata": {},
   "outputs": [
    {
     "name": "stdout",
     "output_type": "stream",
     "text": [
      "   Profundidade(m)  Densidade(g/cm^3)  Resistividade(ohm.m)  VP(km/s)  \\\n",
      "0             1500               2.43                  5.46      1.50   \n",
      "1             1000               2.42                  7.48      2.78   \n",
      "2              500               2.63                 13.87      4.96   \n",
      "3                0               2.63                118.00      5.82   \n",
      "4             -500               2.63                324.27      5.82   \n",
      "5            -1000               2.63                896.18      5.82   \n",
      "\n",
      "   Densidade_valid(km/s)  Resistividade_AT10_valid(km/s)  \\\n",
      "0                   2.23                             0.9   \n",
      "1                   2.37                            11.8   \n",
      "2                   2.53                          1655.8   \n",
      "3                   2.63                          1950.0   \n",
      "4                   2.52                          1950.0   \n",
      "5                    NaN                             NaN   \n",
      "\n",
      "   Resistividade_AT30_valid(km/s)  Resistividade_AT90_valid(km/s)  \\\n",
      "0                            56.6                             5.7   \n",
      "1                             9.3                             9.3   \n",
      "2                            96.7                           103.5   \n",
      "3                           198.8                           354.9   \n",
      "4                           427.2                           423.7   \n",
      "5                             NaN                             NaN   \n",
      "\n",
      "   VP_valid(km/s)  \n",
      "0             NaN  \n",
      "1            3.95  \n",
      "2            5.67  \n",
      "3            5.81  \n",
      "4            5.77  \n",
      "5             NaN  \n"
     ]
    }
   ],
   "source": [
    "# Dados fornecidos\n",
    "dados = {\n",
    "    \"Profundidade(m)\": [1500, 1000, 500, 0, -500, -1000],\n",
    "    \"Densidade(g/cm^3)\": [2.43, 2.42, 2.63, 2.63, 2.63, 2.63],\n",
    "    \"Resistividade(ohm.m)\": [5.46, 7.48, 13.87, 118.00, 324.27, 896.18],\n",
    "    \"VP(km/s)\": [1.50, 2.78, 4.96, 5.82, 5.82, 5.82],\n",
    "    \"Densidade_valid(km/s)\": [2.23, 2.37, 2.53, 2.63, 2.52, None],\n",
    "    \"Resistividade_AT10_valid(km/s)\": [0.9, 11.8, 1655.8, 1950, 1950, None],\n",
    "    \"Resistividade_AT30_valid(km/s)\": [56.6, 9.3, 96.7, 198.8, 427.2, None],\n",
    "    \"Resistividade_AT90_valid(km/s)\": [5.7, 9.3, 103.5, 354.9, 423.7, None],\n",
    "    \"VP_valid(km/s)\": [None, 3.95, 5.67, 5.81, 5.77, None]\n",
    "    \n",
    "}\n",
    "\n",
    "# Cria o DataFrame\n",
    "df = pd.DataFrame(dados)\n",
    "\n",
    "# Exibe o DataFrame\n",
    "print(df)"
   ]
  },
  {
   "cell_type": "code",
   "execution_count": 6,
   "id": "0f477158-fae3-469b-bffa-5160f0f281b7",
   "metadata": {},
   "outputs": [
    {
     "name": "stdout",
     "output_type": "stream",
     "text": [
      "                                          Comparação           MSE  \\\n",
      "0         Densidade(g/cm^3) vs Densidade_valid(km/s)  1.292000e-02   \n",
      "1  Resistividade(ohm.m) vs Resistividade_AT10_val...  1.739039e+06   \n",
      "2  Resistividade_AT30_valid(km/s) vs Resistividad...  5.403302e+03   \n",
      "3                         VP(km/s) vs VP_valid(km/s)  4.689000e-01   \n",
      "\n",
      "          RMSE  Correlação  \n",
      "0     0.113666    0.897943  \n",
      "1  1318.726326    0.649666  \n",
      "2    73.507156    0.920501  \n",
      "3     0.684763    0.974942  \n"
     ]
    }
   ],
   "source": [
    "# Função para calcular métricas\n",
    "def calcular_metricas(col1, col2):\n",
    "    # Remove valores nulos\n",
    "    valid_data = df[[col1, col2]].dropna()\n",
    "    x = valid_data[col1].values\n",
    "    y = valid_data[col2].values\n",
    "\n",
    "    # MSE\n",
    "    mse = mean_squared_error(x, y)\n",
    "    # RMSE\n",
    "    rmse = np.sqrt(mse)\n",
    "    # Correlação de Pearson\n",
    "    if len(x) > 1:\n",
    "        corr, _ = pearsonr(x, y)\n",
    "    else:\n",
    "        corr = np.nan  # Sem dados suficientes para correlação\n",
    "    \n",
    "    return mse, rmse, corr\n",
    "\n",
    "# Calcula as métricas para cada par\n",
    "pares = [\n",
    "    (\"Densidade(g/cm^3)\", \"Densidade_valid(km/s)\"),\n",
    "    (\"Resistividade(ohm.m)\", \"Resistividade_AT10_valid(km/s)\"),\n",
    "    (\"Resistividade_AT30_valid(km/s)\", \"Resistividade_AT90_valid(km/s)\"),\n",
    "    (\"VP(km/s)\", \"VP_valid(km/s)\")\n",
    "]\n",
    "\n",
    "# Cria listas para o resumo\n",
    "metricas = []\n",
    "for col1, col2 in pares:\n",
    "    mse, rmse, corr = calcular_metricas(col1, col2)\n",
    "    metricas.append({\n",
    "        \"Comparação\": f\"{col1} vs {col2}\",\n",
    "        \"MSE\": mse,\n",
    "        \"RMSE\": rmse,\n",
    "        \"Correlação\": corr\n",
    "    })\n",
    "\n",
    "# Cria um DataFrame com as métricas\n",
    "df_metricas = pd.DataFrame(metricas)\n",
    "\n",
    "# Exibe os resultados\n",
    "print(df_metricas)"
   ]
  },
  {
   "cell_type": "code",
   "execution_count": 8,
   "id": "1ebd1682-66f4-476e-ab20-143e087b4e6b",
   "metadata": {},
   "outputs": [
    {
     "name": "stdout",
     "output_type": "stream",
     "text": [
      "                                          Comparação         MSE     RMSE  \\\n",
      "0         Densidade(g/cm^3) vs Densidade_valid(km/s)        0.01     0.11   \n",
      "1  Resistividade(ohm.m) vs Resistividade_AT10_val...  1739039.12  1318.73   \n",
      "2  Resistividade_AT30_valid(km/s) vs Resistividad...     5403.30    73.51   \n",
      "3                         VP(km/s) vs VP_valid(km/s)        0.47     0.68   \n",
      "\n",
      "   Correlação  \n",
      "0        0.90  \n",
      "1        0.65  \n",
      "2        0.92  \n",
      "3        0.97  \n"
     ]
    }
   ],
   "source": [
    "# Cria uma cópia do DataFrame original para formatar\n",
    "df_metricas_2dec = df_metricas.copy()\n",
    "\n",
    "# Arredondando as colunas numéricas para duas casas decimais\n",
    "df_metricas_2dec[\"MSE\"] = df_metricas_2dec[\"MSE\"].round(2)\n",
    "df_metricas_2dec[\"RMSE\"] = df_metricas_2dec[\"RMSE\"].round(2)\n",
    "df_metricas_2dec[\"Correlação\"] = df_metricas_2dec[\"Correlação\"].round(2)\n",
    "\n",
    "# Exibe o DataFrame arredondado\n",
    "print(df_metricas_2dec)\n"
   ]
  },
  {
   "cell_type": "code",
   "execution_count": 9,
   "id": "108de825-66cf-44a8-a756-782a0e4a9f2e",
   "metadata": {},
   "outputs": [
    {
     "name": "stdout",
     "output_type": "stream",
     "text": [
      "   Profundidade(m)  Densidade_Erro_Absoluto  Resistividade_AT10_Erro_Absoluto  \\\n",
      "0             1500                     0.20                              4.56   \n",
      "1             1000                     0.05                              4.32   \n",
      "2              500                     0.10                           1641.93   \n",
      "3                0                     0.00                           1832.00   \n",
      "4             -500                     0.11                           1625.73   \n",
      "\n",
      "   Resistividade_AT30_Erro_Absoluto  Resistividade_AT90_Erro_Absoluto  \\\n",
      "0                             51.14                              0.24   \n",
      "1                              1.82                              1.82   \n",
      "2                             82.83                             89.63   \n",
      "3                             80.80                            236.90   \n",
      "4                            102.93                             99.43   \n",
      "\n",
      "   VP_Erro_Absoluto  \n",
      "0               NaN  \n",
      "1              1.17  \n",
      "2              0.71  \n",
      "3              0.01  \n",
      "4              0.05  \n"
     ]
    }
   ],
   "source": [
    "import pandas as pd\n",
    "import numpy as np\n",
    "\n",
    "# Dados fornecidos\n",
    "dados = {\n",
    "    \"Profundidade(m)\": [1500, 1000, 500, 0, -500, -1000],\n",
    "    \"Densidade(g/cm^3)\": [2.43, 2.42, 2.63, 2.63, 2.63, 2.63],\n",
    "    \"Resistividade(ohm.m)\": [5.46, 7.48, 13.87, 118.00, 324.27, 896.18],\n",
    "    \"VP(km/s)\": [1.50, 2.78, 4.96, 5.82, 5.82, 5.82],\n",
    "    \"Densidade_valid(km/s)\": [2.23, 2.37, 2.53, 2.63, 2.52, None],\n",
    "    \"Resistividade_AT10_valid(km/s)\": [0.9, 11.8, 1655.8, 1950, 1950, None],\n",
    "    \"Resistividade_AT30_valid(km/s)\": [56.6, 9.3, 96.7, 198.8, 427.2, None],\n",
    "    \"Resistividade_AT90_valid(km/s)\": [5.7, 9.3, 103.5, 354.9, 423.7, None],\n",
    "    \"VP_valid(km/s)\": [None, 3.95, 5.67, 5.81, 5.77, None]\n",
    "}\n",
    "\n",
    "# Cria o DataFrame original\n",
    "df = pd.DataFrame(dados)\n",
    "\n",
    "# Cria o DataFrame com erros absolutos\n",
    "df_erros_absoluto = pd.DataFrame({\n",
    "    \"Profundidade(m)\": df[\"Profundidade(m)\"],\n",
    "    \n",
    "    # Densidade\n",
    "    \"Densidade_Erro_Absoluto\": abs(df[\"Densidade(g/cm^3)\"] - df[\"Densidade_valid(km/s)\"]),\n",
    "    \n",
    "    # Resistividades\n",
    "    \"Resistividade_AT10_Erro_Absoluto\": abs(df[\"Resistividade(ohm.m)\"] - df[\"Resistividade_AT10_valid(km/s)\"]),\n",
    "    \"Resistividade_AT30_Erro_Absoluto\": abs(df[\"Resistividade(ohm.m)\"] - df[\"Resistividade_AT30_valid(km/s)\"]),\n",
    "    \"Resistividade_AT90_Erro_Absoluto\": abs(df[\"Resistividade(ohm.m)\"] - df[\"Resistividade_AT90_valid(km/s)\"]),\n",
    "    \n",
    "    # VP\n",
    "    \"VP_Erro_Absoluto\": abs(df[\"VP(km/s)\"] - df[\"VP_valid(km/s)\"])\n",
    "})\n",
    "\n",
    "# Remove a linha com Profundidade = -1000\n",
    "df_erros_absoluto_sem_neg1000 = df_erros_absoluto[df_erros_absoluto[\"Profundidade(m)\"] != -1000]\n",
    "\n",
    "# Exibe o DataFrame sem a profundidade -1000\n",
    "print(df_erros_absoluto_sem_neg1000)\n"
   ]
  },
  {
   "cell_type": "code",
   "execution_count": null,
   "id": "24d098a6-0063-4e2b-b4ba-62e3d2c5542f",
   "metadata": {},
   "outputs": [],
   "source": []
  }
 ],
 "metadata": {
  "kernelspec": {
   "display_name": "Python 3 (ipykernel)",
   "language": "python",
   "name": "python3"
  },
  "language_info": {
   "codemirror_mode": {
    "name": "ipython",
    "version": 3
   },
   "file_extension": ".py",
   "mimetype": "text/x-python",
   "name": "python",
   "nbconvert_exporter": "python",
   "pygments_lexer": "ipython3",
   "version": "3.10.13"
  },
  "widgets": {
   "application/vnd.jupyter.widget-state+json": {
    "state": {},
    "version_major": 2,
    "version_minor": 0
   }
  }
 },
 "nbformat": 4,
 "nbformat_minor": 5
}
